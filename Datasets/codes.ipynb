{
 "cells": [
  {
   "cell_type": "code",
   "execution_count": null,
   "id": "d60770f9-eca6-4be0-bcf5-b29a479e6e2a",
   "metadata": {},
   "outputs": [],
   "source": [
    "import pandas as pd\n",
    "#open eukaryotes file using pandas\n",
    "\n",
    "df1=pd.read_csv(\"eukaryotes.csv\")\n",
    "\n",
    "#drop colums without bioproject id\n",
    "df1=df1.dropna(subset=[\"BioProject\"]) \n",
    "\n",
    "#create a list of  Bioproject id  from eukaryotes csv using\n",
    "list1=[i for i in pd.Series(df1[\"BioProject\"])]   #list comprehension extract Bioproject column \n",
    "#print(list1)\n"
   ]
  },
  {
   "cell_type": "code",
   "execution_count": null,
   "id": "14ba6993-a707-4003-a2dd-dd62cd609017",
   "metadata": {},
   "outputs": [],
   "source": [
    "#open organelles file\n",
    "df2=pd.read_csv(\"organelles.csv\")\n",
    "\n",
    "# #Extracting Bioproject names from organelles csv \n",
    "# #use list comprehension extract Bioproject column\n",
    "list2=[i for i in pd.Series(df2[\"BioProject\"])]   #list comprehension extract Bioproject column \n",
    "#print(list2)"
   ]
  },
  {
   "cell_type": "code",
   "execution_count": null,
   "id": "8629f5e1-1440-4197-9a58-590f6963aea2",
   "metadata": {},
   "outputs": [],
   "source": [
    "#bind them to their organelle genomes using Bioproject as a binding parameter\n",
    "binded_list=[]\n",
    "for bioproject_id in list1:\n",
    "    if bioproject_id in list2:\n",
    "        #print(bioproject_id)\n",
    "        binded_list.append(bioproject_id)\n",
    "\n",
    "print(len(binded_list))"
   ]
  },
  {
   "cell_type": "code",
   "execution_count": null,
   "id": "7d5e7e22-f1ab-412c-9dff-c38347a31f1f",
   "metadata": {},
   "outputs": [],
   "source": [
    "#list of rows to be dropped\n",
    "drop_rows=[]\n",
    "for bioproject_id in list1:\n",
    "    if bioproject_id not in list2:\n",
    "        #print(bioproject_id)\n",
    "        drop_rows.append(bioproject_id)\n",
    "\n",
    "print(len(drop_rows))\n",
    "#print(drop_rows)\n",
    "#df1.info()"
   ]
  },
  {
   "cell_type": "code",
   "execution_count": null,
   "id": "8df032a8-ea4c-4c9e-8c5e-d12f9791db86",
   "metadata": {},
   "outputs": [],
   "source": []
  },
  {
   "cell_type": "code",
   "execution_count": null,
   "id": "59b3a0a2-e6d4-4bf9-bf61-b2ae6e797167",
   "metadata": {},
   "outputs": [],
   "source": [
    "#reset the index to Bioproject\n",
    "df1=df1.set_index(\"BioProject\")"
   ]
  },
  {
   "cell_type": "code",
   "execution_count": null,
   "id": "628a4463-6b60-4b10-926d-b7a8f1210b01",
   "metadata": {},
   "outputs": [],
   "source": [
    "#drop colums in eukaryote csv without extrachromosome\n",
    "#df1.head(50)\n",
    "df1=df1.drop( i for i in drop_rows)\n"
   ]
  },
  {
   "cell_type": "code",
   "execution_count": null,
   "id": "1be904bc-ff0b-4c2c-b267-2baba22ae2c7",
   "metadata": {},
   "outputs": [],
   "source": [
    "#reset the index to obtain the column of Bioproject\n",
    "df1=df1.reset_index()\n",
    "#df1"
   ]
  },
  {
   "cell_type": "code",
   "execution_count": null,
   "id": "ef38a93a-7d7b-40a2-8cbe-2454f534b141",
   "metadata": {},
   "outputs": [],
   "source": [
    "df1"
   ]
  },
  {
   "cell_type": "code",
   "execution_count": null,
   "id": "5b0a8ee6-a978-4f4b-8dd6-658db7ca819d",
   "metadata": {},
   "outputs": [],
   "source": [
    "#craete clean csv of eukaryotes with extrachromosomes\n",
    "df1.to_csv(\"eukaryotes_with_extrachromosomes.csv\", index=False)\n"
   ]
  },
  {
   "cell_type": "code",
   "execution_count": null,
   "id": "c24dd085-639d-4b26-bff9-65232f546829",
   "metadata": {},
   "outputs": [],
   "source": [
    "\n"
   ]
  },
  {
   "cell_type": "code",
   "execution_count": null,
   "id": "0093cf03-ca30-4bfa-bb86-d7d609870654",
   "metadata": {},
   "outputs": [],
   "source": [
    "df3=pd.read_csv(\"eukaryotes_with_extrachromosomes.csv\")\n",
    "df3.head()\n",
    "#df3.info()\n",
    "#use the columnn of organisms, convert to string and search for plants\n",
    "mask=df3[\"Organism Groups\"].str.contains(\"Plants\")\n",
    "df3=df3[mask]\n",
    "df3\n",
    "#craete clean csv with Plants with extrachromosomes\n",
    "df3.to_csv(\"Plants_with_extrachromosomes.csv\", index=False)\n"
   ]
  },
  {
   "cell_type": "code",
   "execution_count": null,
   "id": "8cfc2edf-b3f3-4b8b-b48f-e1c98dd6c8e6",
   "metadata": {},
   "outputs": [],
   "source": [
    "#use the columnn of organisms, convert to string and search for Animals\n",
    "df4=pd.read_csv(\"eukaryotes_with_extrachromosomes.csv\")\n",
    "df4.head()\n",
    "mask=df4[\"Organism Groups\"].str.contains(\"Animals\")\n",
    "df4=df4[mask]\n",
    "#craete clean csv\n",
    "df4.to_csv(\"Animals_with_extrachromosomes.csv\", index=False)\n",
    "df4"
   ]
  },
  {
   "cell_type": "code",
   "execution_count": null,
   "id": "89999e46-de04-49fa-ac5a-fad3644b9eb3",
   "metadata": {},
   "outputs": [],
   "source": [
    "df4.info()\n",
    "# df3.info()\n",
    "#df2.head()\n"
   ]
  },
  {
   "cell_type": "code",
   "execution_count": null,
   "id": "1de9d517-2e34-4c55-8379-f3ed06eb3d86",
   "metadata": {},
   "outputs": [],
   "source": []
  }
 ],
 "metadata": {
  "kernelspec": {
   "display_name": "Python 3 (ipykernel)",
   "language": "python",
   "name": "python3"
  },
  "language_info": {
   "codemirror_mode": {
    "name": "ipython",
    "version": 3
   },
   "file_extension": ".py",
   "mimetype": "text/x-python",
   "name": "python",
   "nbconvert_exporter": "python",
   "pygments_lexer": "ipython3",
   "version": "3.9.7"
  }
 },
 "nbformat": 4,
 "nbformat_minor": 5
}
